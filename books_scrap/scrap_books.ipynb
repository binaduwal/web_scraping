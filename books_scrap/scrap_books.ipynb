{
 "cells": [
  {
   "cell_type": "code",
   "execution_count": 1,
   "id": "077f476b-cc4a-487d-a18d-f2f7a58f7ac5",
   "metadata": {},
   "outputs": [],
   "source": [
    "from bs4 import BeautifulSoup\n",
    "import requests\n",
    "import pandas as pd\n",
    "import numpy as np"
   ]
  },
  {
   "cell_type": "code",
   "execution_count": 2,
   "id": "d3e5668a-265d-4a1e-a427-e4092c4f3a38",
   "metadata": {},
   "outputs": [],
   "source": [
    "def scrape_page(url):\n",
    "    response=requests.get(url)\n",
    "    if response.status_code==200:\n",
    "        soup=BeautifulSoup(response.content,\"lxml\")\n",
    "        books=soup.find_all(\"article\",class_=\"product_pod\")\n",
    "        \n",
    "        for book in books:\n",
    "            dict['Title'].append(book.h3.a[\"title\"])\n",
    "            dict['Price'].append(book.find(\"p\",class_=\"price_color\").get_text().strip())\n",
    "            dict['Availability'].append(book.find(\"p\", class_=\"instock availability\").get_text().strip())\n",
    "    else:\n",
    "        print(\"failed to fetch page\")\n"
   ]
  },
  {
   "cell_type": "code",
   "execution_count": 3,
   "id": "81ac7702-1b93-422b-8285-d95435bf3af4",
   "metadata": {},
   "outputs": [],
   "source": [
    "def scrape_multiple_pages(base_url,num):\n",
    "   for page in range(1,page_num+1):\n",
    "    url=f\"{base_url}catalogue/page-{page}.html\"\n",
    "    scrape_page(url)"
   ]
  },
  {
   "cell_type": "code",
   "execution_count": 4,
   "id": "d2ecf69a-57aa-4639-8c29-360c0ddcaf32",
   "metadata": {},
   "outputs": [
    {
     "name": "stdout",
     "output_type": "stream",
     "text": [
      "                                                 Title   Price Availability\n",
      "0                                 A Light in the Attic  £51.77     In stock\n",
      "1                                   Tipping the Velvet  £53.74     In stock\n",
      "2                                           Soumission  £50.10     In stock\n",
      "3                                        Sharp Objects  £47.82     In stock\n",
      "4                Sapiens: A Brief History of Humankind  £54.23     In stock\n",
      "..                                                 ...     ...          ...\n",
      "995  Alice in Wonderland (Alice's Adventures in Won...  £55.53     In stock\n",
      "996   Ajin: Demi-Human, Volume 1 (Ajin: Demi-Human #1)  £57.06     In stock\n",
      "997  A Spy's Devotion (The Regency Spies of London #1)  £16.97     In stock\n",
      "998                1st to Die (Women's Murder Club #1)  £53.98     In stock\n",
      "999                 1,000 Places to See Before You Die  £26.08     In stock\n",
      "\n",
      "[1000 rows x 3 columns]\n"
     ]
    }
   ],
   "source": [
    "base_url=\"https://books.toscrape.com/\"\n",
    "page_num=50\n",
    "dict={'Title':[],'Price':[],'Availability':[]}\n",
    "scrape_multiple_pages(base_url,page_num)  \n",
    "\n",
    "df=pd.DataFrame.from_dict(dict)\n",
    "print(df)\n",
    "df.to_csv(\"books.csv\",index=False)\n",
    "    "
   ]
  },
  {
   "cell_type": "code",
   "execution_count": null,
   "id": "2e6e5d79-52e2-4210-8cf4-bd2aefd852a2",
   "metadata": {},
   "outputs": [],
   "source": []
  },
  {
   "cell_type": "code",
   "execution_count": null,
   "id": "8a5150bc-502b-4cf5-a3ae-101edb4356b5",
   "metadata": {},
   "outputs": [],
   "source": []
  }
 ],
 "metadata": {
  "kernelspec": {
   "display_name": "Python 3 (ipykernel)",
   "language": "python",
   "name": "python3"
  },
  "language_info": {
   "codemirror_mode": {
    "name": "ipython",
    "version": 3
   },
   "file_extension": ".py",
   "mimetype": "text/x-python",
   "name": "python",
   "nbconvert_exporter": "python",
   "pygments_lexer": "ipython3",
   "version": "3.12.2"
  }
 },
 "nbformat": 4,
 "nbformat_minor": 5
}
